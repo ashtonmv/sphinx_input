{
 "cells": [
  {
   "cell_type": "markdown",
   "metadata": {},
   "source": [
    "# See input.sx for a sample SPHInX input that I would like to achieve"
   ]
  },
  {
   "cell_type": "code",
   "execution_count": 1,
   "metadata": {},
   "outputs": [],
   "source": [
    "import numpy as np\n",
    "from pyiron import Project\n",
    "from pyiron.sphinx.structure import read_atoms"
   ]
  },
  {
   "cell_type": "code",
   "execution_count": 115,
   "metadata": {},
   "outputs": [
    {
     "name": "stderr",
     "output_type": "stream",
     "text": [
      "2020-04-07 15:49:02,792 - pyiron_log - WARNING - Job aborted - please remove it and run again! test\n"
     ]
    }
   ],
   "source": [
    "pr = Project(\"sphinx_input\")\n",
    "test = pr.create_job(pr.job_type.Sphinx, \"test\")\n",
    "test.structure = read_atoms(\"structure.sx\")"
   ]
  },
  {
   "cell_type": "markdown",
   "metadata": {},
   "source": [
    "# Currently:\n",
    "What I have below doesn't work. It ultimately writes the _guess_str dictionary literally to guess.sx.\n",
    "Normally I just overwrite the file, e.g. `with open(\"guess.sx\", \"w\")`... immediately\n",
    "after I submit the job, which cannot be the best way."
   ]
  },
  {
   "cell_type": "code",
   "execution_count": 116,
   "metadata": {},
   "outputs": [],
   "source": [
    "test._guess_str = {\n",
    "    \"waves\": {\n",
    "        \"lcao\": {\n",
    "            \"maxSteps\": 1,\n",
    "            \"rhoMixing\": 0.\n",
    "        },\n",
    "        \"pawBasis\": None\n",
    "    },\n",
    "    \"rho\": {\n",
    "        \"atomicOrbitals\": None,\n",
    "        \"charged\": {\n",
    "            \"charge\": 2,\n",
    "            \"z\": 20\n",
    "        }\n",
    "    }\n",
    "}\n",
    "\n",
    "#test.run()"
   ]
  },
  {
   "cell_type": "markdown",
   "metadata": {},
   "source": [
    "# It would be great to arbitrarily add/overwrite parameters with dictionaries:\n",
    "\n",
    "I think if the primary groups that should be tunable in SPHInX (basis, PAWHamiltonian, and initialGuess) were initialized as full dictionaries with their respective defaults, this would be a straightforward way to customize them later, as Sam suggested.\n",
    "\n",
    "And if they are meant to be externally modifiable, they should probably not carry an underscore prefix."
   ]
  },
  {
   "cell_type": "code",
   "execution_count": 1,
   "metadata": {},
   "outputs": [],
   "source": [
    "import os\n",
    "from pyiron import Project"
   ]
  },
  {
   "cell_type": "code",
   "execution_count": 2,
   "metadata": {},
   "outputs": [],
   "source": [
    "os.chdir(\"/Users/ashton/pyiron/projects\")\n",
    "pr = Project(\"sphinx_test\")\n",
    "job = pr.create_job(pr.job_type.Sphinx, \"test\")\n",
    "job.structure = pr.create_structure(\"Fe\", \"bcc\", 2.78)"
   ]
  },
  {
   "cell_type": "code",
   "execution_count": 3,
   "metadata": {},
   "outputs": [
    {
     "name": "stdout",
     "output_type": "stream",
     "text": [
      "/Users/ashton/pyiron/projects/sphinx_test/test_hdf5/test\n",
      "{'eCut': 'EnCut', 'kPoint': {'coords': 'KpointCoords', 'weight': 1, 'relative': True}, 'folding': 'KpointFolding', 'saveMemory': True}\n"
     ]
    },
    {
     "name": "stderr",
     "output_type": "stream",
     "text": [
      "/Users/ashton/Software/sphinx_input/pyiron/sphinx/base.py:368: UserWarning: executable version could not be identified\n",
      "  warnings.warn(\"executable version could not be identified\")\n"
     ]
    }
   ],
   "source": [
    "job.input.guess[\"rho\"][\"charged\"] = {\"charge\": 2, \"z\": 20}\n",
    "\n",
    "job.input.guess.rho.charged.charge = 3\n",
    "job.input.hamilton.set_flag(\"dipoleCorrection\")\n",
    "job.input.hamilton.set(\"nExcessElectrons\", -2)\n",
    "\n",
    "job.input.hamilton.nExcessElectrons = -4\n",
    "job.write_input()\n",
    "print(job.input.basis)"
   ]
  },
  {
   "cell_type": "code",
   "execution_count": 8,
   "metadata": {},
   "outputs": [
    {
     "name": "stdout",
     "output_type": "stream",
     "text": [
      "nEmptyStates = 5;\n",
      "ekt = Sigma;\n",
      "xc = Xcorr;\n",
      "dipoleCorrection;\n",
      "nExcessElectrons = -4;\n"
     ]
    }
   ],
   "source": [
    "!cat /Users/ashton/pyiron/projects/sphinx_test/test_hdf5/test/PAWhamiltonian.sx"
   ]
  },
  {
   "cell_type": "code",
   "execution_count": 6,
   "metadata": {},
   "outputs": [
    {
     "name": "stdout",
     "output_type": "stream",
     "text": [
      "EnCut=340;\n",
      "KpointCoords=[0.5, 0.5, 0.5];\n",
      "KpointFolding=[4, 4, 4];\n",
      "EmptyStates=auto;\n",
      "Sigma=0.2;\n",
      "Xcorr=PBE;\n",
      "VaspPot=True;\n",
      "Estep=400;\n",
      "Ediff=0.0001;\n",
      "WriteWaves=True;\n",
      "KJxc=False;\n",
      "SaveMemory=True;\n",
      "CoarseRun=False;\n",
      "rhoMixing=1.0;\n",
      "spinMixing=1.0;\n",
      "CheckOverlap=True;\n",
      "THREADS=1;\n"
     ]
    }
   ],
   "source": [
    "!cat /Users/ashton/pyiron/projects/sphinx_test/test_hdf5/test/userparameters.sx"
   ]
  },
  {
   "cell_type": "code",
   "execution_count": null,
   "metadata": {},
   "outputs": [],
   "source": []
  }
 ],
 "metadata": {
  "kernelspec": {
   "display_name": "Python 3",
   "language": "python",
   "name": "python3"
  },
  "language_info": {
   "codemirror_mode": {
    "name": "ipython",
    "version": 3
   },
   "file_extension": ".py",
   "mimetype": "text/x-python",
   "name": "python",
   "nbconvert_exporter": "python",
   "pygments_lexer": "ipython3",
   "version": "3.7.4"
  }
 },
 "nbformat": 4,
 "nbformat_minor": 4
}

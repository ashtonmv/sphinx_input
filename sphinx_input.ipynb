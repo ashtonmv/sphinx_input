{
 "cells": [
  {
   "cell_type": "markdown",
   "metadata": {},
   "source": [
    "# See input.sx for a sample SPHInX input that I would like to achieve"
   ]
  },
  {
   "cell_type": "code",
   "execution_count": 71,
   "metadata": {},
   "outputs": [],
   "source": [
    "from pyiron import Project\n",
    "from pyiron.sphinx.structure import read_atoms"
   ]
  },
  {
   "cell_type": "code",
   "execution_count": 115,
   "metadata": {},
   "outputs": [
    {
     "name": "stderr",
     "output_type": "stream",
     "text": [
      "2020-04-07 15:49:02,792 - pyiron_log - WARNING - Job aborted - please remove it and run again! test\n"
     ]
    }
   ],
   "source": [
    "pr = Project(\"sphinx_input\")\n",
    "test = pr.create_job(pr.job_type.Sphinx, \"test\")\n",
    "test.structure = read_atoms(\"structure.sx\")"
   ]
  },
  {
   "cell_type": "markdown",
   "metadata": {},
   "source": [
    "# Currently:\n",
    "What I have below doesn't work. It ultimately writes the _guess_str dictionary literally to guess.sx.\n",
    "Normally I just overwrite the file, e.g. `with open(\"guess.sx\", \"w\")`... immediately\n",
    "after I submit the job, which cannot be the best way."
   ]
  },
  {
   "cell_type": "code",
   "execution_count": 116,
   "metadata": {},
   "outputs": [],
   "source": [
    "test._guess_str = {\n",
    "    \"waves\": {\n",
    "        \"lcao\": {\n",
    "            \"maxSteps\": 1,\n",
    "            \"rhoMixing\": 0.\n",
    "        },\n",
    "        \"pawBasis\": None\n",
    "    },\n",
    "    \"rho\": {\n",
    "        \"atomicOrbitals\": None,\n",
    "        \"charged\": {\n",
    "            \"charge\": 2,\n",
    "            \"z\": 20\n",
    "        }\n",
    "    }\n",
    "}\n",
    "\n",
    "#test.run()"
   ]
  },
  {
   "cell_type": "markdown",
   "metadata": {},
   "source": [
    "# It would be great to arbitrarily add/overwrite parameters with dictionaries:\n",
    "\n",
    "I think if the primary groups that should be tunable in SPHInX (basis, PAWHamiltonian, and initialGuess) were initialized as full dictionaries with their respective defaults, this would be a straightforward way to customize them later, as Sam suggested.\n",
    "\n",
    "And if they are meant to be externally modifiable, they should probably not carry an underscore prefix."
   ]
  },
  {
   "cell_type": "code",
   "execution_count": 32,
   "metadata": {},
   "outputs": [],
   "source": [
    "class SphinxBase():\n",
    "    \"\"\"\n",
    "    Class to setup and run Sphinx simulations which is a derivative of pyiron_atomistics.job.generic.GenericJob.\n",
    "    The functions in these modules are written in such the function names and attributes are very generic\n",
    "    (get_structure(), molecular_dynamics(), version) but the functions are written to handle Sphinx specific input and\n",
    "    output.\n",
    "    Args:\n",
    "        project: Project object (defines path where job will be created and stored)\n",
    "        job_name (str): name of the job (must be unique within this project path)\n",
    "    \"\"\"\n",
    "\n",
    "    def __init__(self):\n",
    "        self.basis_group = {\n",
    "            \"eCut\": 340,\n",
    "            \"kPoint\": {\n",
    "                \"coords\": [1/2, 1/2, 1/4],\n",
    "                \"weight\": 1,\n",
    "                \"relative\": True\n",
    "            },\n",
    "            \"folding\": [5, 5, 1]\n",
    "        }\n",
    "        self.hamilton_group = {\n",
    "            \"nEmptyStates\": \"auto\",\n",
    "            \"ekt\": 0.1,\n",
    "            \"xc\": \"PBE\"\n",
    "        }\n",
    "        self.guess_group = {\n",
    "            \"waves\": {\n",
    "                \"lcao\": {\n",
    "                    \"maxSteps\": 1,\n",
    "                    \"rhoMixing\": 0.\n",
    "                },\n",
    "                \"pawBasis\": True\n",
    "            },\n",
    "           \"rho\": {\n",
    "               \"atomicOrbitals\": True,\n",
    "           }\n",
    "        }\n",
    "        self.main_group = {}  # May be no sensible defaults\n",
    "        self.spin_group = None  # This group is optional\n",
    "        self.structure_group = None # Can't be initialized w/o structure\n",
    "        self.species_group = None  # Can't be initialized w/o structure"
   ]
  },
  {
   "cell_type": "code",
   "execution_count": 111,
   "metadata": {},
   "outputs": [],
   "source": [
    "sphinx_base = SphinxBase()\n",
    "sphinx_base.hamilton_group[\"dipoleCorrection\"] = None\n",
    "sphinx_base.hamilton_group[\"nExcessElectrons\"] = -2\n",
    "sphinx_base.guess_group[\"charged\"] = {\"charge\": 2, \"z\": 20}"
   ]
  }
 ],
 "metadata": {
  "kernelspec": {
   "display_name": "Python 3",
   "language": "python",
   "name": "python3"
  },
  "language_info": {
   "codemirror_mode": {
    "name": "ipython",
    "version": 3
   },
   "file_extension": ".py",
   "mimetype": "text/x-python",
   "name": "python",
   "nbconvert_exporter": "python",
   "pygments_lexer": "ipython3",
   "version": "3.7.6"
  }
 },
 "nbformat": 4,
 "nbformat_minor": 4
}
